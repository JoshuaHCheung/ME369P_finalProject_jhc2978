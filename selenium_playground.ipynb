{
 "cells": [
  {
   "cell_type": "code",
   "execution_count": 2,
   "metadata": {},
   "outputs": [],
   "source": [
    "from selenium import webdriver\n",
    "from selenium.webdriver.common.by import By\n",
    "from selenium.webdriver.common.keys import Keys\n",
    "from selenium.common import NoSuchElementException, ElementNotInteractableException\n",
    "from selenium.webdriver.support.wait import WebDriverWait\n",
    "from selenium.webdriver.support import expected_conditions as EC\n",
    "import time\n",
    "import numpy as np"
   ]
  },
  {
   "cell_type": "code",
   "execution_count": 3,
   "metadata": {},
   "outputs": [],
   "source": [
    "driver =webdriver.Firefox()"
   ]
  },
  {
   "cell_type": "code",
   "execution_count": 7,
   "metadata": {},
   "outputs": [],
   "source": [
    "#university of texas at austin\n",
    "# driver.get(\"https://www.ratemyprofessors.com/search/professors/1255?q=*\")\n",
    "\n",
    "#harvey mudd college\n",
    "driver.get(\"https://www.ratemyprofessors.com/search/professors/400?q=*\")"
   ]
  },
  {
   "cell_type": "code",
   "execution_count": 8,
   "metadata": {},
   "outputs": [],
   "source": [
    "#closes the popup for cookies\n",
    "driver.find_element(By.XPATH, \"//div[starts-with(@class, 'FullPageModal__')]//button\").click()"
   ]
  },
  {
   "cell_type": "code",
   "execution_count": 11,
   "metadata": {},
   "outputs": [
    {
     "name": "stdout",
     "output_type": "stream",
     "text": [
      "professor count is 143\n"
     ]
    }
   ],
   "source": [
    "#number of professors\n",
    "professor_count = driver.find_element(By.XPATH, \"//h1[starts-with(@data-testid, 'pagination-header')]\")\n",
    "professor_number = int(professor_count.text.split()[0])\n",
    "print(f'professor count is {professor_number}')"
   ]
  },
  {
   "cell_type": "code",
   "execution_count": 32,
   "metadata": {},
   "outputs": [
    {
     "ename": "ElementClickInterceptedException",
     "evalue": "Message: Element <button class=\"Buttons__Button-sc-19xdot-1 PaginationButton__StyledPaginationButton-txi1dr-1 eUNaBX\" type=\"button\"> is not clickable at point (469,971) because another element <iframe class=\"IL_BASE\" name=\"IL_SR_FRAME10\" src=\"javascript:window[\"$iceContent\"]\"> obscures it\nStacktrace:\nRemoteError@chrome://remote/content/shared/RemoteError.sys.mjs:8:8\nWebDriverError@chrome://remote/content/shared/webdriver/Errors.sys.mjs:189:5\nElementClickInterceptedError@chrome://remote/content/shared/webdriver/Errors.sys.mjs:333:5\nwebdriverClickElement@chrome://remote/content/marionette/interaction.sys.mjs:160:11\ninteraction.clickElement@chrome://remote/content/marionette/interaction.sys.mjs:119:11\nclickElement@chrome://remote/content/marionette/actors/MarionetteCommandsChild.sys.mjs:202:29\nreceiveMessage@chrome://remote/content/marionette/actors/MarionetteCommandsChild.sys.mjs:84:31\n",
     "output_type": "error",
     "traceback": [
      "\u001b[0;31m---------------------------------------------------------------------------\u001b[0m",
      "\u001b[0;31mElementClickInterceptedException\u001b[0m          Traceback (most recent call last)",
      "\u001b[1;32m/home/joshch/Academia/ME369P/ME369P_finalProject_jhc2978/selenium_playground.ipynb Cell 6\u001b[0m line \u001b[0;36m1\n\u001b[1;32m      <a href='vscode-notebook-cell:/home/joshch/Academia/ME369P/ME369P_finalProject_jhc2978/selenium_playground.ipynb#W6sZmlsZQ%3D%3D?line=8'>9</a>\u001b[0m \u001b[39mfor\u001b[39;00m i \u001b[39min\u001b[39;00m \u001b[39mrange\u001b[39m(reloads_needed):\n\u001b[1;32m     <a href='vscode-notebook-cell:/home/joshch/Academia/ME369P/ME369P_finalProject_jhc2978/selenium_playground.ipynb#W6sZmlsZQ%3D%3D?line=9'>10</a>\u001b[0m     wait\u001b[39m.\u001b[39muntil(\u001b[39mlambda\u001b[39;00m d : load_more_button\u001b[39m.\u001b[39mis_displayed())\n\u001b[0;32m---> <a href='vscode-notebook-cell:/home/joshch/Academia/ME369P/ME369P_finalProject_jhc2978/selenium_playground.ipynb#W6sZmlsZQ%3D%3D?line=10'>11</a>\u001b[0m     load_more_button\u001b[39m.\u001b[39;49mclick()\n\u001b[1;32m     <a href='vscode-notebook-cell:/home/joshch/Academia/ME369P/ME369P_finalProject_jhc2978/selenium_playground.ipynb#W6sZmlsZQ%3D%3D?line=11'>12</a>\u001b[0m     driver\u001b[39m.\u001b[39mexecute_script(\u001b[39m\"\u001b[39m\u001b[39mwindow.scrollTo(0, document.body.scrollHeight)\u001b[39m\u001b[39m\"\u001b[39m)\n",
      "File \u001b[0;32m~/.local/lib/python3.10/site-packages/selenium/webdriver/remote/webelement.py:93\u001b[0m, in \u001b[0;36mWebElement.click\u001b[0;34m(self)\u001b[0m\n\u001b[1;32m     91\u001b[0m \u001b[39mdef\u001b[39;00m \u001b[39mclick\u001b[39m(\u001b[39mself\u001b[39m) \u001b[39m-\u001b[39m\u001b[39m>\u001b[39m \u001b[39mNone\u001b[39;00m:\n\u001b[1;32m     92\u001b[0m     \u001b[39m\"\"\"Clicks the element.\"\"\"\u001b[39;00m\n\u001b[0;32m---> 93\u001b[0m     \u001b[39mself\u001b[39;49m\u001b[39m.\u001b[39;49m_execute(Command\u001b[39m.\u001b[39;49mCLICK_ELEMENT)\n",
      "File \u001b[0;32m~/.local/lib/python3.10/site-packages/selenium/webdriver/remote/webelement.py:394\u001b[0m, in \u001b[0;36mWebElement._execute\u001b[0;34m(self, command, params)\u001b[0m\n\u001b[1;32m    392\u001b[0m     params \u001b[39m=\u001b[39m {}\n\u001b[1;32m    393\u001b[0m params[\u001b[39m\"\u001b[39m\u001b[39mid\u001b[39m\u001b[39m\"\u001b[39m] \u001b[39m=\u001b[39m \u001b[39mself\u001b[39m\u001b[39m.\u001b[39m_id\n\u001b[0;32m--> 394\u001b[0m \u001b[39mreturn\u001b[39;00m \u001b[39mself\u001b[39;49m\u001b[39m.\u001b[39;49m_parent\u001b[39m.\u001b[39;49mexecute(command, params)\n",
      "File \u001b[0;32m~/.local/lib/python3.10/site-packages/selenium/webdriver/remote/webdriver.py:344\u001b[0m, in \u001b[0;36mWebDriver.execute\u001b[0;34m(self, driver_command, params)\u001b[0m\n\u001b[1;32m    342\u001b[0m response \u001b[39m=\u001b[39m \u001b[39mself\u001b[39m\u001b[39m.\u001b[39mcommand_executor\u001b[39m.\u001b[39mexecute(driver_command, params)\n\u001b[1;32m    343\u001b[0m \u001b[39mif\u001b[39;00m response:\n\u001b[0;32m--> 344\u001b[0m     \u001b[39mself\u001b[39;49m\u001b[39m.\u001b[39;49merror_handler\u001b[39m.\u001b[39;49mcheck_response(response)\n\u001b[1;32m    345\u001b[0m     response[\u001b[39m\"\u001b[39m\u001b[39mvalue\u001b[39m\u001b[39m\"\u001b[39m] \u001b[39m=\u001b[39m \u001b[39mself\u001b[39m\u001b[39m.\u001b[39m_unwrap_value(response\u001b[39m.\u001b[39mget(\u001b[39m\"\u001b[39m\u001b[39mvalue\u001b[39m\u001b[39m\"\u001b[39m, \u001b[39mNone\u001b[39;00m))\n\u001b[1;32m    346\u001b[0m     \u001b[39mreturn\u001b[39;00m response\n",
      "File \u001b[0;32m~/.local/lib/python3.10/site-packages/selenium/webdriver/remote/errorhandler.py:229\u001b[0m, in \u001b[0;36mErrorHandler.check_response\u001b[0;34m(self, response)\u001b[0m\n\u001b[1;32m    227\u001b[0m         alert_text \u001b[39m=\u001b[39m value[\u001b[39m\"\u001b[39m\u001b[39malert\u001b[39m\u001b[39m\"\u001b[39m]\u001b[39m.\u001b[39mget(\u001b[39m\"\u001b[39m\u001b[39mtext\u001b[39m\u001b[39m\"\u001b[39m)\n\u001b[1;32m    228\u001b[0m     \u001b[39mraise\u001b[39;00m exception_class(message, screen, stacktrace, alert_text)  \u001b[39m# type: ignore[call-arg]  # mypy is not smart enough here\u001b[39;00m\n\u001b[0;32m--> 229\u001b[0m \u001b[39mraise\u001b[39;00m exception_class(message, screen, stacktrace)\n",
      "\u001b[0;31mElementClickInterceptedException\u001b[0m: Message: Element <button class=\"Buttons__Button-sc-19xdot-1 PaginationButton__StyledPaginationButton-txi1dr-1 eUNaBX\" type=\"button\"> is not clickable at point (469,971) because another element <iframe class=\"IL_BASE\" name=\"IL_SR_FRAME10\" src=\"javascript:window[\"$iceContent\"]\"> obscures it\nStacktrace:\nRemoteError@chrome://remote/content/shared/RemoteError.sys.mjs:8:8\nWebDriverError@chrome://remote/content/shared/webdriver/Errors.sys.mjs:189:5\nElementClickInterceptedError@chrome://remote/content/shared/webdriver/Errors.sys.mjs:333:5\nwebdriverClickElement@chrome://remote/content/marionette/interaction.sys.mjs:160:11\ninteraction.clickElement@chrome://remote/content/marionette/interaction.sys.mjs:119:11\nclickElement@chrome://remote/content/marionette/actors/MarionetteCommandsChild.sys.mjs:202:29\nreceiveMessage@chrome://remote/content/marionette/actors/MarionetteCommandsChild.sys.mjs:84:31\n"
     ]
    }
   ],
   "source": [
    "#button for getting all the professors listed\n",
    "if professor_number >10:\n",
    "    reloads_needed = int(np.ceil((professor_number-10)/10))\n",
    "else:\n",
    "    reloads_needed = 0\n",
    "\n",
    "\n",
    "for i in range(reloads_needed):\n",
    "    load_more_button = driver.find_element(By.XPATH, \"//button[starts-with(@class, 'Buttons__Button-sc')]\")\n",
    "    wait = WebDriverWait(driver, timeout = 3)\n",
    "    wait.until(lambda d : load_more_button.is_displayed())\n",
    "    button_position = load_more_button.getElementPosition\n",
    "    driver.execute_script(\"window.scrollTo(0, document.body.scrollHeight)\")\n",
    "    load_more_button.click()\n",
    "\n",
    "    "
   ]
  },
  {
   "cell_type": "code",
   "execution_count": 34,
   "metadata": {},
   "outputs": [],
   "source": [
    "load_more_button = driver.find_element(By.XPATH, \"//button[starts-with(@class, 'Buttons__Button-sc')]\")\n",
    "driver.execute_script(\"window.scrollTo(0, document.body.scrollHeight)\")\n",
    "\n"
   ]
  },
  {
   "cell_type": "code",
   "execution_count": 60,
   "metadata": {},
   "outputs": [],
   "source": [
    "#finding scroll distances\n",
    "y_scroll_offset = 80\n",
    "load_more_button = driver.find_element(By.XPATH, \"//button[starts-with(@class, 'Buttons__Button-sc')]\")\n",
    "button_y_position = load_more_button.rect['y']-y_scroll_offset"
   ]
  },
  {
   "cell_type": "code",
   "execution_count": 61,
   "metadata": {},
   "outputs": [],
   "source": [
    "driver.execute_script(f\"window.scrollTo(0, {button_y_position})\")"
   ]
  },
  {
   "cell_type": "code",
   "execution_count": 62,
   "metadata": {},
   "outputs": [],
   "source": [
    "#button for getting more\n",
    "driver.find_element(By.XPATH, \"//button[starts-with(@class, 'Buttons__Button-sc')]\").click()"
   ]
  },
  {
   "cell_type": "code",
   "execution_count": 15,
   "metadata": {},
   "outputs": [],
   "source": [
    "teacher_cards = driver.find_elements(By.XPATH, \"//a[starts-with(@class, 'TeacherCard__StyledTeacherCard')]\")"
   ]
  },
  {
   "cell_type": "code",
   "execution_count": 17,
   "metadata": {},
   "outputs": [
    {
     "name": "stdout",
     "output_type": "stream",
     "text": [
      "66\n"
     ]
    }
   ],
   "source": [
    "print(len(teacher_cards))"
   ]
  },
  {
   "cell_type": "code",
   "execution_count": 19,
   "metadata": {},
   "outputs": [],
   "source": [
    "teacher_urls=[]\n",
    "for i in teacher_cards:\n",
    "    teacher_urls.append(i.get_attribute(\"href\"))"
   ]
  },
  {
   "cell_type": "code",
   "execution_count": 20,
   "metadata": {},
   "outputs": [
    {
     "name": "stdout",
     "output_type": "stream",
     "text": [
      "['https://www.ratemyprofessors.com/professor/8487', 'https://www.ratemyprofessors.com/professor/8489', 'https://www.ratemyprofessors.com/professor/8491', 'https://www.ratemyprofessors.com/professor/17503', 'https://www.ratemyprofessors.com/professor/20603', 'https://www.ratemyprofessors.com/professor/27227', 'https://www.ratemyprofessors.com/professor/32179', 'https://www.ratemyprofessors.com/professor/41587', 'https://www.ratemyprofessors.com/professor/63394', 'https://www.ratemyprofessors.com/professor/73864', 'https://www.ratemyprofessors.com/professor/77601', 'https://www.ratemyprofessors.com/professor/77719', 'https://www.ratemyprofessors.com/professor/91833', 'https://www.ratemyprofessors.com/professor/106585', 'https://www.ratemyprofessors.com/professor/106855', 'https://www.ratemyprofessors.com/professor/111516', 'https://www.ratemyprofessors.com/professor/129656', 'https://www.ratemyprofessors.com/professor/130710', 'https://www.ratemyprofessors.com/professor/131093', 'https://www.ratemyprofessors.com/professor/131399', 'https://www.ratemyprofessors.com/professor/131647', 'https://www.ratemyprofessors.com/professor/133946', 'https://www.ratemyprofessors.com/professor/135406', 'https://www.ratemyprofessors.com/professor/138781', 'https://www.ratemyprofessors.com/professor/138812', 'https://www.ratemyprofessors.com/professor/145509', 'https://www.ratemyprofessors.com/professor/147897', 'https://www.ratemyprofessors.com/professor/148592', 'https://www.ratemyprofessors.com/professor/148607', 'https://www.ratemyprofessors.com/professor/156417', 'https://www.ratemyprofessors.com/professor/158263', 'https://www.ratemyprofessors.com/professor/170876', 'https://www.ratemyprofessors.com/professor/170880', 'https://www.ratemyprofessors.com/professor/174272', 'https://www.ratemyprofessors.com/professor/178405', 'https://www.ratemyprofessors.com/professor/199094', 'https://www.ratemyprofessors.com/professor/199916', 'https://www.ratemyprofessors.com/professor/203193', 'https://www.ratemyprofessors.com/professor/225936', 'https://www.ratemyprofessors.com/professor/225946', 'https://www.ratemyprofessors.com/professor/235291', 'https://www.ratemyprofessors.com/professor/235292', 'https://www.ratemyprofessors.com/professor/235293', 'https://www.ratemyprofessors.com/professor/235296', 'https://www.ratemyprofessors.com/professor/235966', 'https://www.ratemyprofessors.com/professor/244234', 'https://www.ratemyprofessors.com/professor/252823', 'https://www.ratemyprofessors.com/professor/258445', 'https://www.ratemyprofessors.com/professor/259564', 'https://www.ratemyprofessors.com/professor/259668', 'https://www.ratemyprofessors.com/professor/259669', 'https://www.ratemyprofessors.com/professor/259676', 'https://www.ratemyprofessors.com/professor/261552', 'https://www.ratemyprofessors.com/professor/261556', 'https://www.ratemyprofessors.com/professor/264776', 'https://www.ratemyprofessors.com/professor/276920', 'https://www.ratemyprofessors.com/professor/287473', 'https://www.ratemyprofessors.com/professor/308314', 'https://www.ratemyprofessors.com/professor/317580', 'https://www.ratemyprofessors.com/professor/332294', 'https://www.ratemyprofessors.com/professor/336104', 'https://www.ratemyprofessors.com/professor/336588', 'https://www.ratemyprofessors.com/professor/342318', 'https://www.ratemyprofessors.com/professor/345181', 'https://www.ratemyprofessors.com/professor/355052', 'https://www.ratemyprofessors.com/professor/358285']\n"
     ]
    }
   ],
   "source": [
    "print(teacher_urls)"
   ]
  }
 ],
 "metadata": {
  "kernelspec": {
   "display_name": "Python 3",
   "language": "python",
   "name": "python3"
  },
  "language_info": {
   "codemirror_mode": {
    "name": "ipython",
    "version": 3
   },
   "file_extension": ".py",
   "mimetype": "text/x-python",
   "name": "python",
   "nbconvert_exporter": "python",
   "pygments_lexer": "ipython3",
   "version": "3.10.12"
  }
 },
 "nbformat": 4,
 "nbformat_minor": 2
}
