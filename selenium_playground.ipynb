{
 "cells": [
  {
   "cell_type": "code",
   "execution_count": 65,
   "metadata": {},
   "outputs": [],
   "source": [
    "from selenium import webdriver\n",
    "from selenium.webdriver.common.by import By\n",
    "from selenium.webdriver.common.keys import Keys\n",
    "from selenium.common import NoSuchElementException, ElementNotInteractableException\n",
    "from selenium.webdriver.support.wait import WebDriverWait\n",
    "from selenium.webdriver.support import expected_conditions as EC\n",
    "import time\n",
    "import numpy as np"
   ]
  },
  {
   "cell_type": "code",
   "execution_count": 66,
   "metadata": {},
   "outputs": [],
   "source": [
    "driver =webdriver.Firefox()"
   ]
  },
  {
   "cell_type": "code",
   "execution_count": 67,
   "metadata": {},
   "outputs": [],
   "source": [
    "#university of texas at austin\n",
    "# driver.get(\"https://www.ratemyprofessors.com/search/professors/1255?q=*\")\n",
    "\n",
    "#harvey mudd college\n",
    "driver.get(\"https://www.ratemyprofessors.com/search/professors/400?q=*\")"
   ]
  },
  {
   "cell_type": "code",
   "execution_count": 68,
   "metadata": {},
   "outputs": [],
   "source": [
    "#closes the popup for cookies\n",
    "driver.find_element(By.XPATH, \"//div[starts-with(@class, 'FullPageModal__')]//button\").click()"
   ]
  },
  {
   "cell_type": "code",
   "execution_count": 73,
   "metadata": {},
   "outputs": [
    {
     "name": "stdout",
     "output_type": "stream",
     "text": [
      "professor count is 139\n"
     ]
    }
   ],
   "source": [
    "#number of professors\n",
    "professor_count = driver.find_element(By.XPATH, \"//h1[starts-with(@data-testid, 'pagination-header')]\")\n",
    "professor_number = int(professor_count.text.split()[0])\n",
    "print(f'professor count is {professor_number}')"
   ]
  },
  {
   "cell_type": "code",
   "execution_count": 74,
   "metadata": {},
   "outputs": [
    {
     "name": "stdout",
     "output_type": "stream",
     "text": [
      "reloads needed: 17\n"
     ]
    }
   ],
   "source": [
    "#button for getting all the professors listed\n",
    "if professor_number >8:\n",
    "    reloads_needed = int(np.ceil((professor_number-8)/8))\n",
    "else:\n",
    "    reloads_needed = 0\n",
    "\n",
    "print(f'reloads needed: {reloads_needed}')\n",
    "\n",
    "#objects needed\n",
    "load_more_button = driver.find_element(By.XPATH, \"//button[starts-with(@class, 'Buttons__Button-sc')]\")\n",
    "wait = WebDriverWait(driver, timeout = 3)\n",
    "\n",
    "for i in range(reloads_needed):\n",
    "    y_scroll_offset = 80\n",
    "    wait.until(lambda d : load_more_button.is_displayed())\n",
    "    button_y_position = load_more_button.rect['y']-y_scroll_offset\n",
    "    driver.execute_script(f\"window.scrollTo(0, {button_y_position})\")\n",
    "    load_more_button.click()\n",
    "\n",
    "    "
   ]
  },
  {
   "cell_type": "code",
   "execution_count": 60,
   "metadata": {},
   "outputs": [],
   "source": [
    "#finding scroll distances\n",
    "y_scroll_offset = 80\n",
    "load_more_button = driver.find_element(By.XPATH, \"//button[starts-with(@class, 'Buttons__Button-sc')]\")\n",
    "button_y_position = load_more_button.rect['y']-y_scroll_offset"
   ]
  },
  {
   "cell_type": "code",
   "execution_count": 34,
   "metadata": {},
   "outputs": [],
   "source": [
    "load_more_button = driver.find_element(By.XPATH, \"//button[starts-with(@class, 'Buttons__Button-sc')]\")\n",
    "driver.execute_script(\"window.scrollTo(0, document.body.scrollHeight)\")"
   ]
  },
  {
   "cell_type": "code",
   "execution_count": 61,
   "metadata": {},
   "outputs": [],
   "source": [
    "#scroll to where the button is\n",
    "driver.execute_script(f\"window.scrollTo(0, {button_y_position})\")"
   ]
  },
  {
   "cell_type": "code",
   "execution_count": 62,
   "metadata": {},
   "outputs": [],
   "source": [
    "#button for getting more\n",
    "driver.find_element(By.XPATH, \"//button[starts-with(@class, 'Buttons__Button-sc')]\").click()"
   ]
  },
  {
   "cell_type": "code",
   "execution_count": 15,
   "metadata": {},
   "outputs": [],
   "source": [
    "teacher_cards = driver.find_elements(By.XPATH, \"//a[starts-with(@class, 'TeacherCard__StyledTeacherCard')]\")"
   ]
  },
  {
   "cell_type": "code",
   "execution_count": 17,
   "metadata": {},
   "outputs": [
    {
     "name": "stdout",
     "output_type": "stream",
     "text": [
      "66\n"
     ]
    }
   ],
   "source": [
    "print(len(teacher_cards))"
   ]
  },
  {
   "cell_type": "code",
   "execution_count": 19,
   "metadata": {},
   "outputs": [],
   "source": [
    "teacher_urls=[]\n",
    "for i in teacher_cards:\n",
    "    teacher_urls.append(i.get_attribute(\"href\"))"
   ]
  },
  {
   "cell_type": "code",
   "execution_count": 20,
   "metadata": {},
   "outputs": [
    {
     "name": "stdout",
     "output_type": "stream",
     "text": [
      "['https://www.ratemyprofessors.com/professor/8487', 'https://www.ratemyprofessors.com/professor/8489', 'https://www.ratemyprofessors.com/professor/8491', 'https://www.ratemyprofessors.com/professor/17503', 'https://www.ratemyprofessors.com/professor/20603', 'https://www.ratemyprofessors.com/professor/27227', 'https://www.ratemyprofessors.com/professor/32179', 'https://www.ratemyprofessors.com/professor/41587', 'https://www.ratemyprofessors.com/professor/63394', 'https://www.ratemyprofessors.com/professor/73864', 'https://www.ratemyprofessors.com/professor/77601', 'https://www.ratemyprofessors.com/professor/77719', 'https://www.ratemyprofessors.com/professor/91833', 'https://www.ratemyprofessors.com/professor/106585', 'https://www.ratemyprofessors.com/professor/106855', 'https://www.ratemyprofessors.com/professor/111516', 'https://www.ratemyprofessors.com/professor/129656', 'https://www.ratemyprofessors.com/professor/130710', 'https://www.ratemyprofessors.com/professor/131093', 'https://www.ratemyprofessors.com/professor/131399', 'https://www.ratemyprofessors.com/professor/131647', 'https://www.ratemyprofessors.com/professor/133946', 'https://www.ratemyprofessors.com/professor/135406', 'https://www.ratemyprofessors.com/professor/138781', 'https://www.ratemyprofessors.com/professor/138812', 'https://www.ratemyprofessors.com/professor/145509', 'https://www.ratemyprofessors.com/professor/147897', 'https://www.ratemyprofessors.com/professor/148592', 'https://www.ratemyprofessors.com/professor/148607', 'https://www.ratemyprofessors.com/professor/156417', 'https://www.ratemyprofessors.com/professor/158263', 'https://www.ratemyprofessors.com/professor/170876', 'https://www.ratemyprofessors.com/professor/170880', 'https://www.ratemyprofessors.com/professor/174272', 'https://www.ratemyprofessors.com/professor/178405', 'https://www.ratemyprofessors.com/professor/199094', 'https://www.ratemyprofessors.com/professor/199916', 'https://www.ratemyprofessors.com/professor/203193', 'https://www.ratemyprofessors.com/professor/225936', 'https://www.ratemyprofessors.com/professor/225946', 'https://www.ratemyprofessors.com/professor/235291', 'https://www.ratemyprofessors.com/professor/235292', 'https://www.ratemyprofessors.com/professor/235293', 'https://www.ratemyprofessors.com/professor/235296', 'https://www.ratemyprofessors.com/professor/235966', 'https://www.ratemyprofessors.com/professor/244234', 'https://www.ratemyprofessors.com/professor/252823', 'https://www.ratemyprofessors.com/professor/258445', 'https://www.ratemyprofessors.com/professor/259564', 'https://www.ratemyprofessors.com/professor/259668', 'https://www.ratemyprofessors.com/professor/259669', 'https://www.ratemyprofessors.com/professor/259676', 'https://www.ratemyprofessors.com/professor/261552', 'https://www.ratemyprofessors.com/professor/261556', 'https://www.ratemyprofessors.com/professor/264776', 'https://www.ratemyprofessors.com/professor/276920', 'https://www.ratemyprofessors.com/professor/287473', 'https://www.ratemyprofessors.com/professor/308314', 'https://www.ratemyprofessors.com/professor/317580', 'https://www.ratemyprofessors.com/professor/332294', 'https://www.ratemyprofessors.com/professor/336104', 'https://www.ratemyprofessors.com/professor/336588', 'https://www.ratemyprofessors.com/professor/342318', 'https://www.ratemyprofessors.com/professor/345181', 'https://www.ratemyprofessors.com/professor/355052', 'https://www.ratemyprofessors.com/professor/358285']\n"
     ]
    }
   ],
   "source": [
    "print(teacher_urls)"
   ]
  }
 ],
 "metadata": {
  "kernelspec": {
   "display_name": "Python 3",
   "language": "python",
   "name": "python3"
  },
  "language_info": {
   "codemirror_mode": {
    "name": "ipython",
    "version": 3
   },
   "file_extension": ".py",
   "mimetype": "text/x-python",
   "name": "python",
   "nbconvert_exporter": "python",
   "pygments_lexer": "ipython3",
   "version": "3.10.12"
  }
 },
 "nbformat": 4,
 "nbformat_minor": 2
}
