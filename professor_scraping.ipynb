{
 "cells": [
  {
   "cell_type": "code",
   "execution_count": 58,
   "metadata": {},
   "outputs": [],
   "source": [
    "from selenium import webdriver\n",
    "from selenium.webdriver.common.by import By\n",
    "from selenium.webdriver.common.keys import Keys\n",
    "from selenium.common import NoSuchElementException, ElementNotInteractableException\n",
    "from selenium.webdriver.support.wait import WebDriverWait\n",
    "from selenium.webdriver.support import expected_conditions as EC\n",
    "import time\n",
    "import numpy as np\n",
    "import re"
   ]
  },
  {
   "cell_type": "code",
   "execution_count": 59,
   "metadata": {},
   "outputs": [],
   "source": [
    "driver =webdriver.Firefox()"
   ]
  },
  {
   "cell_type": "code",
   "execution_count": 60,
   "metadata": {},
   "outputs": [],
   "source": [
    "#getting a professor\n",
    "# driver.get(\"https://www.ratemyprofessors.com/professor/54889\") #16 reviews\n",
    "# driver.get(\"https://www.ratemyprofessors.com/professor/2633823\") #zero reviews\n",
    "driver.get(\"https://www.ratemyprofessors.com/professor/131047\") #54 reviews"
   ]
  },
  {
   "cell_type": "code",
   "execution_count": 61,
   "metadata": {},
   "outputs": [],
   "source": [
    "#closes the popup for cookies\n",
    "try:\n",
    "    driver.find_element(By.XPATH, \"//div[starts-with(@class, 'FullPageModal__')]//button\").click()\n",
    "except NoSuchElementException:\n",
    "    print('no popup found')"
   ]
  },
  {
   "cell_type": "code",
   "execution_count": 62,
   "metadata": {},
   "outputs": [
    {
     "name": "stdout",
     "output_type": "stream",
     "text": [
      "54\n"
     ]
    }
   ],
   "source": [
    "#get number of reviews and load all\n",
    "review_count_finder = driver.find_element(By.XPATH, \"//div[starts-with(@class, 'RatingValue__NumRatings')]\").text\n",
    "#find the number of ratings\n",
    "review_count = 0\n",
    "number_checker = re.findall(r'\\b\\d+\\b', review_count_finder)\n",
    "if number_checker:\n",
    "    review_count = int(number_checker[0])\n",
    "\n",
    "print(review_count)\n",
    "\n",
    "#scroll down if more that 20 reviews\n",
    "scroll_count = int(np.ceil((review_count-20)/10))\n",
    "\n",
    "if scroll_count >= 1:\n",
    "    load_more_button = driver.find_element(By.XPATH, \"//button[starts-with(@class, 'Buttons__Button-sc')]\")\n",
    "    wait = WebDriverWait(driver, timeout = 3)\n",
    "\n",
    "    for i in range(scroll_count):\n",
    "        y_scroll_offset = 80\n",
    "        wait.until(lambda d : load_more_button.is_displayed())\n",
    "        button_y_position = load_more_button.rect['y']-y_scroll_offset\n",
    "        driver.execute_script(f\"window.scrollTo(0, {button_y_position})\")\n",
    "        load_more_button.click()\n"
   ]
  },
  {
   "cell_type": "code",
   "execution_count": 7,
   "metadata": {},
   "outputs": [
    {
     "name": "stdout",
     "output_type": "stream",
     "text": [
      "['', 'ENGR179', '', 'ENG106', '', 'ENGRCLIN', '', 'E106', '', 'ENG008ENG106', '', 'MATERIALS', '', 'MATERIALS106', '', 'E106', '', 'E106', '', 'MATERIALSE106', '', 'E106MATERIALS', '', 'TOOLS', '', 'E8', '', 'E8', '', 'E117', '', 'E179E59']\n"
     ]
    }
   ],
   "source": [
    "#get classes\n",
    "class_list = []\n",
    "class_cards = driver.find_elements(By.XPATH, \"//div[starts-with(@class, 'RatingHeader__StyledClass')]\")\n",
    "for i in class_cards:\n",
    "    class_list.append(i.text)\n",
    "print(class_list)"
   ]
  },
  {
   "cell_type": "code",
   "execution_count": 8,
   "metadata": {},
   "outputs": [
    {
     "name": "stdout",
     "output_type": "stream",
     "text": [
      "['', 'Apr 5th, 2012', '', 'Aug 7th, 2011', '', 'Jan 20th, 2011', '', 'May 26th, 2006', '', 'May 11th, 2006', '', 'May 10th, 2006', '', 'Apr 27th, 2006', '', 'Apr 23rd, 2006', '', 'Apr 21st, 2006', '', 'Apr 20th, 2006', '', 'Apr 20th, 2006', '', 'Jan 24th, 2006', '', 'Nov 17th, 2004', '', 'Nov 16th, 2004', '', 'Apr 7th, 2003', '', 'Feb 21st, 2003']\n"
     ]
    }
   ],
   "source": [
    "#get review date\n",
    "date_list = []\n",
    "date_cards = driver.find_elements(By.XPATH, \"//div[starts-with(@class, 'TimeStamp__StyledTimeStamp')]\")\n",
    "for i in date_cards:\n",
    "    date_list.append(i.text)\n",
    "print(date_list)"
   ]
  },
  {
   "cell_type": "code",
   "execution_count": 10,
   "metadata": {},
   "outputs": [
    {
     "name": "stdout",
     "output_type": "stream",
     "text": [
      "['Textbook: Yes', 'Textbook: Yes', 'Textbook: No']\n"
     ]
    }
   ],
   "source": [
    "#get textbook \n",
    "textbook_list = []\n",
    "textbook_cards = driver.find_elements(By.XPATH, \"//div[starts-with(@class, 'MetaItem__StyledMetaItem')]\")\n",
    "for i in textbook_cards:\n",
    "    textbook_list.append(i.text)\n",
    "print(textbook_list)"
   ]
  },
  {
   "cell_type": "code",
   "execution_count": 71,
   "metadata": {},
   "outputs": [
    {
     "name": "stdout",
     "output_type": "stream",
     "text": [
      "There are 54 reviews\n",
      "['Alan', 'Alan', 'Alan', 'Alan', 'Alan', 'Alan', 'Alan', 'Alan', 'Alan', 'Alan', 'Alan', 'Alan', 'Alan', 'Alan', 'Alan', 'Alan', 'Alan', 'Alan', 'Alan', 'Alan', 'Alan', 'Alan', 'Alan', 'Alan', 'Alan', 'Alan', 'Alan', 'Alan', 'Alan', 'Alan', 'Alan', 'Alan', 'Alan', 'Alan', 'Alan', 'Alan', 'Alan', 'Alan', 'Alan', 'Alan', 'Alan', 'Alan', 'Alan', 'Alan', 'Alan', 'Alan', 'Alan', 'Alan', 'Alan', 'Alan', 'Alan', 'Alan', 'Alan', 'Alan']\n",
      "['Mills', 'Mills', 'Mills', 'Mills', 'Mills', 'Mills', 'Mills', 'Mills', 'Mills', 'Mills', 'Mills', 'Mills', 'Mills', 'Mills', 'Mills', 'Mills', 'Mills', 'Mills', 'Mills', 'Mills', 'Mills', 'Mills', 'Mills', 'Mills', 'Mills', 'Mills', 'Mills', 'Mills', 'Mills', 'Mills', 'Mills', 'Mills', 'Mills', 'Mills', 'Mills', 'Mills', 'Mills', 'Mills', 'Mills', 'Mills', 'Mills', 'Mills', 'Mills', 'Mills', 'Mills', 'Mills', 'Mills', 'Mills', 'Mills', 'Mills', 'Mills', 'Mills', 'Mills', 'Mills']\n",
      "['MATH1910', 'MATH1910', '1130021', 'MATH1910', 'MATH1910', 'MATH1910', 'MATH1920', '1730', 'MATH1730', 'MATH1730', 'MATH1130', 'MATH001', 'MATH1920', 'MATH1920', 'MATH1910', '1920', 'MATH1920', 'CAL1910', 'MATH435436', 'MATH1920', '3400', 'MATH1920', 'MATH1730', 'MATH1710', 'MATH1730', 'MATH1730', 'MATH1730', 'MATH1730', 'MATH1910', 'MATH1910', 'MATH1910', '1630', 'MATH1630', 'MATH', 'MATH191', 'MATH1910', '1910', 'MATH1920', 'CALII', 'MATH1920', 'MATH1020', 'MATH1910', 'CALCULAS', 'MATH1910', 'CALC2', 'CALCIII', 'MATH2910', 'ANYMATH', '1910', 'ANYCOURSE', 'MULTIPLEC', 'MATH1910', 'MATH1910', 'MATH281']\n",
      "['Dec 4th, 2019', 'Feb 17th, 2016', 'Oct 6th, 2015', 'Aug 26th, 2015', 'Mar 2nd, 2015', 'Nov 19th, 2014', 'May 16th, 2014', 'Apr 1st, 2013', 'Nov 12th, 2012', 'Nov 7th, 2012', 'Dec 11th, 2008', 'Dec 12th, 2006', 'Apr 20th, 2006', 'Apr 4th, 2006', 'Nov 10th, 2005', 'Sep 26th, 2005', 'Apr 20th, 2005', 'Apr 6th, 2005', 'Mar 15th, 2005', 'Feb 24th, 2005', 'Dec 31st, 2004', 'Oct 31st, 2004', 'Sep 9th, 2004', 'Jun 22nd, 2004', 'Apr 8th, 2004', 'Apr 5th, 2004', 'Feb 25th, 2004', 'Feb 24th, 2004', 'Dec 3rd, 2003', 'Dec 1st, 2003', 'Dec 1st, 2003', 'Nov 19th, 2003', 'Nov 2nd, 2003', 'Aug 1st, 2003', 'Jul 31st, 2003', 'Jul 11th, 2003', 'Jun 26th, 2003', 'May 15th, 2003', 'May 7th, 2003', 'May 5th, 2003', 'Apr 2nd, 2003', 'Mar 31st, 2003', 'Mar 31st, 2003', 'Mar 31st, 2003', 'Mar 24th, 2003', 'Mar 7th, 2003', 'Mar 6th, 2003', 'Feb 26th, 2003', 'Feb 26th, 2003', 'Feb 25th, 2003', 'Feb 19th, 2003', 'Feb 18th, 2003', 'Feb 17th, 2003', 'Feb 17th, 2003']\n",
      "['5.0', '5.0', '4.5', '5.0', '5.0', '4.0', '5.0', '3.0', '5.0', '5.0', '5.0', '5.0', '5.0', '5.0', '5.0', '3.5', '5.0', '5.0', '5.0', '5.0', '5.0', '5.0', '5.0', '1.5', '4.5', '4.5', '5.0', '4.5', '5.0', '5.0', '5.0', '3.0', '3.5', '1.0', '2.0', '5.0', '1.0', '5.0', '5.0', '5.0', '5.0', '5.0', '5.0', '5.0', '5.0', '5.0', '5.0', '5.0', '5.0', '5.0', '5.0', '5.0', '4.5', '5.0']\n",
      "['3.0', '3.0', '4.0', '1.0', '3.0', '1.0', '3.0', '5.0', '3.0', '2.0', '1.0', '4.0', '1.0', '3.0', '2.0', '4.0', '3.0', '3.0', '3.0', '3.0', '3.0', '4.0', '3.0', '4.0', '4.0', '2.0', '2.0', '2.0', '2.0', '2.0', '4.0', '5.0', '2.0', '5.0', '4.0', '3.0', '1.0', '3.0', '3.0', '3.0', '3.0', '3.0', '3.0', '4.0', '4.0', '2.0', '1.0', '4.0', '4.0', '1.0', '2.0', '3.0', '4.0', '3.0']\n",
      "['For Credit: Yes', 'For Credit: Yes', 'For Credit: Yes', 'For Credit: Yes', 'For Credit: Yes', 'For Credit: Yes', 'Grade: B', 'Textbook: Yes', 'Textbook: Yes', 'Textbook: Yes', 'Textbook: Yes', 'Textbook: Yes', 'unknown', 'unknown', 'unknown', 'unknown', 'unknown', 'unknown', 'unknown', 'unknown', 'unknown', 'unknown', 'unknown', 'unknown', 'unknown', 'unknown', 'unknown', 'unknown', 'unknown', 'unknown', 'unknown', 'unknown', 'unknown', 'unknown', 'unknown', 'unknown', 'unknown', 'unknown', 'unknown', 'unknown', 'unknown', 'unknown', 'unknown', 'unknown', 'unknown', 'unknown', 'unknown', 'unknown', 'unknown', 'unknown', 'unknown', 'unknown', 'unknown', 'unknown']\n",
      "['Had him for Cal one. Good instructor. There are around 12 quizzes and 5 tests and a final. He normally drops one or more quizzes and always drops one test. 10/10 recommend', 'Dr. Mills took over my MATH 1910 class after our instructor was fired. I learned more in the two weeks he taught than I did the whole semester. He is very clear in his instructions and is happy to answer all questions.', 'Helps you understand problems. You must show all work for problems or you will lose points. Homework is online but not mandatory, suggest you do it anyways. Wants you to learn and grow. Loves math and a willing to learn student.', 'Dr. Mills is the absolute best instructor. Take him at all costs. The only gripe is that you cannot take him for all the calculus sequences - this is very unfair..... I would love to have him through Diff E.', \"Alan Mills is by far the best Math professor I have ever had. The class wasn't easy, but he explained the material very clearly and even made it fun to learn, which I didn't think was possible for math. He has a very good sense of humor. If you try to pass, you'll pass. Homework is optional, but highly recommended.\", 'Dr. Mills is a very good teacher. His natural intelligence is very obvious, yet he does not seem to flaunt it or show off. He makes sure to provide help to those that need it during every class period. He also lets you know of quizzes well in advance, as well as the content covered on them. I would highly recommend him!!!!!!!!', 'Dr. Mills is the best just the best !!!! Does not take up homework but do the homework and you can make A', \"He's one of the toughest Math teacher based on his very hard tests. Also he is not helpful. But he's really good at math and easy to understand him.\", 'The best Math teacher I have ever had in my entire life so far. I learned a lot in his class and it will really help me move forward to Calc 1!', \"Dr. Mills is an amazing teacher, using this online program, WebAssign, which can be frustrating at times (it's picky like OWL is for chemistry), but the website is extremely helpful. He will teach you only the important ways to a problem, and while he doesn't allow make-up quizzes, he does make-up tests. Both are challenging, but not impossible. :)\", 'Dr. Mills is an AWESOME teacher. Explains everything clearly and will not move on until you understand. He really wants you to do well. Attendance and Homework are not mandatory. Announced quizzes periodically. Tests are not hard if you do the homework and come to class. TAKE THIS PROFESSOR!!!', 'awsome teacher', \"Dr. Mills is an amazing teacher. He explains everything in a very clear manner. He cares about his students. He assigns a lot of homework, yet he doesn't ever grade it, ever. I suggest that you work every problem though. Calc II is just a taxing class. Work the problems and ask Dr. Mills questions. His tests are difficult but doable. Study and work\", \"Excellent teacher, very clear, easy to understand. Cal II is just a hard class. He doesn't take up homework, ever. If you actually do all of the homework you might do decent on his tests, maybe. The tests are pretty rough.\", \"He really knows his stuff. He is very clear in explaining the concepts, will work as many examples as you need, and strives to help you understand everything. He's got a good sense of humor, too. Probably the best math teacher I've ever had. I'm taking him for Calc 2 also.\", 'Knows his stuff - like most TTU Math professors, but makes tests too hard - like most TTU Math professors.', 'Excellent Math Prof. Best at Tech. I took him for cal 2 as well as precal and I will take him for any other possible class. He clearly explains subjects as many times as the class desires and provides plenty of examples. On top of all of this, he has a great since of humor! Take him if you can.', \"Dr. Mills is an exellent teacher. He really loves his job and doing math. This class is definitely not easy, but if you come to lecture and do the homework you'll be fine.\", 'He is a great teacher. A lot of math teachers are not prepared but his lecture is just so well laid out and orderly. He is one of the best teachers that I have had', \"He knows what he's talking about, gives good examples, tests are at first glance hard because you have to combine a lot of strategies. Overall, this guy is the shiznit at teaching calculus 2. Take him if you can. I study a lot of math, and I learned a lot from him.\", \"I've had him before for Cal II and as always, he's just as great a professor as he was in Cal II. Very helpful, very thorough in lecture, and no tricky tests where there's material on there that no one knows about. This is a tough subject, but having him as a teacher made it less stressful.\", \"One of the best professors I have ever had. He is extremely thorough with the material and teaches it very well. His test are a little hard, but he makes sure you are well prepared for them. If you see an opening in Mills' class, don't even think twice about it and sign up for his class.\", \"He's a very good teacher. He explains everything in a way compatible to most people's learning. I plan on taking him for Calculus 2 in the future.\", \"Didn't like his class at all. He's a little strange, and he makes his tests harder than they need to be.\", 'He is very helpful and he breaks things down very well', 'This is an excellent class, and I would recommend it to anyone. He does plenty of examples, and if you attend class every day you should learn it with no sweat. His methods for doing the unit circle and such are much better than most other methods.', 'Very helpful. Works plenty of examples and explains material very clearly for idiots like me. He even makes logarithms seem easy. If you have to take this course for credit, I would reccommend you take him. He will prepare you very well for Calculus.', 'This teacher is really good. He explains the material very well and gives plenty of examples. The only bad thing is he likes to assign homework.', 'Good teacher', 'great prof...very clear examples...dumbed it down for the students like me...', 'very good at explaining', 'he is way to smart to teach a class like 1630', 'Very good teacher.I did not like him in the beginning AT ALL but then things started to make sense.He got over his \"cool teacher\" status and came down to earth and really explained things well.Likes to say these guys or those guys at least 25 ti', \"He puts problems on the test to trick people and of course he can do that he has a dr. in math but yet he doesn't drop that problem. He is not a good professor. The tests are harder than they need to be and he is not helpful.\", 'like a super geek, makes test harder then needed.grades hard. not a good teacher', 'He is very clear on every example, and he has a way of my even the hardest theorems make sense.', 'so much fun i loved this class it was awesome. yeah. YAY!', \"Very clear, and always willing to help as long as he sees you putting forth an effort. I didn't do the homework, and I failed the class. Those who worked, passed easily. Uses example problems as test questions, so take notes and pay attention in class.\", 'Excellent Teacher', 'Best math teacher in the world, or at least at Tech anyway. He explains complicated subjects in a way that anyone can understand. I would recommend him to anyone taking calculus.', 'Great teacher. Easy to understand and very helpful. If you do the homework and attend class you should have no problems.', \"Great teacher, makes difficult concepts seem easy, and won't put you to sleep. Do your Homework and anyone can do well in this class.\", 'The best of the best, regester early cause he fills up fast', \"Excellent teacher. If you make sure you can do the homework, you'll be fine. Fun too...not boring like other profs.\", 'Very helpful, explains things very clearly and willing to take the extra time to make sure you understand. Make it a priority to have this teacher as your prof for any math class.', \"Excellent professor. Make sure you do the homework and you'll be fine.\", 'Good Teacher to take for Calculus.', \"Take him! Excellent at teaching. Exams are hard but fair (if you don't learn it, you wont do well.) Make him your #1 priority to take. He'll answer any question before, during, or after class. Occasional quizzes and scheduled exams.\", 'No Comments', 'If you get a chance to take a math class form Dr. mills take it!! you will have fair grades and a very good understanding of the material.', 'No Comments', 'The best teacher I have ever had period.', 'Honestly, the best math teacher I have taken in my entire educational career.', 'Good clear consciece teaching']\n"
     ]
    }
   ],
   "source": [
    "#get professor name \n",
    "professor_name = driver.find_element(By.XPATH, \"//div[starts-with(@class, 'NameTitle__Name')]\").text.strip().split()\n",
    "professor_firstname = professor_name[0]\n",
    "professor_lastname = professor_name[1]\n",
    "\n",
    "\n",
    "#get all reviews and all associated elements!\n",
    "review_cards = driver.find_elements(By.XPATH, \"//div[starts-with(@class, 'Rating__RatingBody')]\")\n",
    "# print(len(review_cards))\n",
    "# print(review_cards)\n",
    "print(f'There are {len(review_cards)} reviews')\n",
    "class_list = []\n",
    "quality_list = []\n",
    "difficulty_list = []\n",
    "time_list = []\n",
    "textbook_list = []\n",
    "comment_list = []\n",
    "professor_firstname_list = []\n",
    "professor_lastname_list = []\n",
    "\n",
    "\n",
    "for i in review_cards:\n",
    "    professor_firstname_list.append(professor_firstname)\n",
    "    professor_lastname_list.append(professor_lastname)\n",
    "    class_list.append(i.find_element(By.XPATH, \"(.//div[starts-with(@class, 'RatingHeader__StyledClass')])[2]\").text)\n",
    "    time_list.append(i.find_element(By.XPATH, \"(.//div[starts-with(@class, 'TimeStamp__StyledTimeStamp')])[2]\").text)\n",
    "    quality_list.append(i.find_element(By.XPATH, \"(.//div[starts-with(@class, 'CardNumRating')])[3]\").text)\n",
    "    difficulty_list.append(i.find_element(By.XPATH, \"(.//div[starts-with(@class, 'CardNumRating')])[6]\").text)\n",
    "    comment_list.append(i.find_element(By.XPATH, \"(.//div[starts-with(@class, 'Comments__StyledComments')])[1]\").text)\n",
    "    try:\n",
    "        textbook_list.append(i.find_element(By.XPATH, \"(.//div[starts-with(@class, 'MetaItem__StyledMetaItem')])[1]\").text)\n",
    "    except NoSuchElementException:\n",
    "        textbook_list.append('unknown')\n",
    "\n",
    "print(professor_firstname_list)\n",
    "print(professor_lastname_list)\n",
    "print(class_list)\n",
    "print(time_list)\n",
    "print(quality_list)\n",
    "print(difficulty_list)\n",
    "print(textbook_list)\n",
    "print(comment_list)"
   ]
  }
 ],
 "metadata": {
  "kernelspec": {
   "display_name": "Python 3",
   "language": "python",
   "name": "python3"
  },
  "language_info": {
   "codemirror_mode": {
    "name": "ipython",
    "version": 3
   },
   "file_extension": ".py",
   "mimetype": "text/x-python",
   "name": "python",
   "nbconvert_exporter": "python",
   "pygments_lexer": "ipython3",
   "version": "3.10.12"
  }
 },
 "nbformat": 4,
 "nbformat_minor": 2
}
